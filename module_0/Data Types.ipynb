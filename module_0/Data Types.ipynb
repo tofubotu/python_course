{
 "cells": [
  {
   "cell_type": "code",
   "execution_count": 1,
   "id": "4f5e6e7e-686c-4592-aabd-86e44884997e",
   "metadata": {},
   "outputs": [
    {
     "name": "stdout",
     "output_type": "stream",
     "text": [
      "User: Anna\n",
      "Age: 32\n",
      "Active user: True\n",
      "Account Balance: 150.75\n"
     ]
    }
   ],
   "source": [
    "user_name = \"Anna\"  # String literal\n",
    "user_age = 32       # Integer literal\n",
    "active_user = True  # Boolean literal\n",
    "account_balance = 150.75  # Floating-point literal\n",
    "\n",
    "# Output the user details\n",
    "print(\"User:\", user_name)\n",
    "print(\"Age:\", user_age)\n",
    "print(\"Active user:\", active_user)\n",
    "print(\"Account Balance:\", account_balance)"
   ]
  },
  {
   "cell_type": "code",
   "execution_count": null,
   "id": "27f86811-c584-450a-a1a8-2eeca8eff886",
   "metadata": {},
   "outputs": [],
   "source": []
  }
 ],
 "metadata": {
  "kernelspec": {
   "display_name": "Python 3 (ipykernel)",
   "language": "python",
   "name": "python3"
  },
  "language_info": {
   "codemirror_mode": {
    "name": "ipython",
    "version": 3
   },
   "file_extension": ".py",
   "mimetype": "text/x-python",
   "name": "python",
   "nbconvert_exporter": "python",
   "pygments_lexer": "ipython3",
   "version": "3.11.5"
  }
 },
 "nbformat": 4,
 "nbformat_minor": 5
}
