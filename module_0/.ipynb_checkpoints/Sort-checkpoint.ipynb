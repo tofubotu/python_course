{
 "cells": [
  {
   "cell_type": "code",
   "execution_count": 1,
   "id": "deca16be-4a0d-4ef9-b01e-2003d9127265",
   "metadata": {},
   "outputs": [],
   "source": [
    "def bubble_sort_names(names):\n",
    "    # Get the number of elements in the list\n",
    "    n = len(names)\n",
    "    \n",
    "    # Perform Bubble Sort <- Quite sophisticated algorithm example!\n",
    "    \n",
    "    for i in range(n):\n",
    "        # Last i elements are already sorted\n",
    "        for j in range(0, n-i-1):\n",
    "            # Traverse the list from 0 to n-i-1\n",
    "            # Swap if the element found is greater than the next element\n",
    "            if names[j] > names[j+1]:\n",
    "                names[j], names[j+1] = names[j+1], names[j]\n",
    "    return names"
   ]
  },
  {
   "cell_type": "code",
   "execution_count": 6,
   "id": "cbf2272a-9d2d-4e79-9709-a5948b9b2980",
   "metadata": {},
   "outputs": [],
   "source": [
    "names_list = [\"Xena\",\"Anna\", \"John\", \"Peter\", \"Maria\", \"Zoe\"]"
   ]
  },
  {
   "cell_type": "code",
   "execution_count": 7,
   "id": "3be7fcdd-257f-4d71-a68f-c94c728a2d5d",
   "metadata": {},
   "outputs": [
    {
     "data": {
      "text/plain": [
       "['Xena', 'Anna', 'John', 'Peter', 'Maria', 'Zoe']"
      ]
     },
     "execution_count": 7,
     "metadata": {},
     "output_type": "execute_result"
    }
   ],
   "source": [
    "names_list"
   ]
  },
  {
   "cell_type": "code",
   "execution_count": 8,
   "id": "5c0fb2f3-ee15-4de0-935c-182859ffbe6e",
   "metadata": {},
   "outputs": [],
   "source": [
    "sorted_names = bubble_sort_names(names_list)"
   ]
  },
  {
   "cell_type": "code",
   "execution_count": 9,
   "id": "9382c49f-12f9-4873-ad9a-a10cad0318e5",
   "metadata": {},
   "outputs": [
    {
     "data": {
      "text/plain": [
       "['Anna', 'John', 'Maria', 'Peter', 'Xena', 'Zoe']"
      ]
     },
     "execution_count": 9,
     "metadata": {},
     "output_type": "execute_result"
    }
   ],
   "source": [
    "sorted_names"
   ]
  },
  {
   "cell_type": "code",
   "execution_count": null,
   "id": "80fa48d1-83f5-4724-b17d-df3121727164",
   "metadata": {},
   "outputs": [],
   "source": []
  }
 ],
 "metadata": {
  "kernelspec": {
   "display_name": "Python 3 (ipykernel)",
   "language": "python",
   "name": "python3"
  },
  "language_info": {
   "codemirror_mode": {
    "name": "ipython",
    "version": 3
   },
   "file_extension": ".py",
   "mimetype": "text/x-python",
   "name": "python",
   "nbconvert_exporter": "python",
   "pygments_lexer": "ipython3",
   "version": "3.11.5"
  }
 },
 "nbformat": 4,
 "nbformat_minor": 5
}
